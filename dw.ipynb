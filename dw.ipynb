{
 "cells": [
  {
   "cell_type": "code",
   "execution_count": 9,
   "metadata": {
    "init_cell": true
   },
   "outputs": [],
   "source": [
    "%logstop\n",
    "%logstart -rtq ~/.logs/dw.py append\n",
    "%matplotlib inline\n",
    "import matplotlib\n",
    "import seaborn as sns\n",
    "sns.set()\n",
    "matplotlib.rcParams['figure.dpi'] = 144"
   ]
  },
  {
   "cell_type": "code",
   "execution_count": null,
   "metadata": {},
   "outputs": [],
   "source": [
    "from static_grader import grader"
   ]
  },
  {
   "cell_type": "markdown",
   "metadata": {},
   "source": [
    "# DW Miniproject\n",
    "## Introduction\n",
    "\n",
    "The objective of this miniproject is to exercise your ability to wrangle tabular data set and aggregate large data sets into meaningful summary statistics. We'll work with the same medical data used in the `pw` miniproject but leverage the power of Pandas to more efficiently represent and act on our data."
   ]
  },
  {
   "cell_type": "markdown",
   "metadata": {},
   "source": [
    "## Downloading the data\n",
    "\n",
    "We first need to download the data we'll be using from Amazon S3:"
   ]
  },
  {
   "cell_type": "code",
   "execution_count": 6,
   "metadata": {},
   "outputs": [
    {
     "name": "stdout",
     "output_type": "stream",
     "text": [
      "mkdir: cannot create directory ‘dw-data’: File exists\n",
      "File ‘./dw-data/201701scripts_sample.csv.gz’ already there; not retrieving.\n",
      "\n",
      "File ‘./dw-data/201606scripts_sample.csv.gz’ already there; not retrieving.\n",
      "\n",
      "File ‘./dw-data/practices.csv.gz’ already there; not retrieving.\n",
      "\n",
      "File ‘./dw-data/chem.csv.gz’ already there; not retrieving.\n",
      "\n"
     ]
    }
   ],
   "source": [
    "!mkdir dw-data\n",
    "!wget http://dataincubator-wqu.s3.amazonaws.com/dwdata/201701scripts_sample.csv.gz -nc -P ./dw-data/\n",
    "!wget http://dataincubator-wqu.s3.amazonaws.com/dwdata/201606scripts_sample.csv.gz -nc -P ./dw-data/\n",
    "!wget http://dataincubator-wqu.s3.amazonaws.com/dwdata/practices.csv.gz -nc -P ./dw-data/\n",
    "!wget http://dataincubator-wqu.s3.amazonaws.com/dwdata/chem.csv.gz -nc -P ./dw-data/"
   ]
  },
  {
   "cell_type": "markdown",
   "metadata": {},
   "source": [
    "## Loading the data\n",
    "\n",
    "Similar to the `PW` miniproject, the first step is to read in the data. The data files are stored as compressed CSV files. You can load the data into a Pandas DataFrame by making use of the `gzip` package to decompress the files and Panda's `read_csv` methods to parse the data into a DataFrame. You may want to check the Pandas documentation for parsing [CSV](http://pandas.pydata.org/pandas-docs/stable/generated/pandas.read_csv.html) files for reference.\n",
    "\n",
    "For a description of the data set please, refer to the [PW miniproject](./pw.ipynb). **Note that all questions make use of the 2017 data only, except for Question 5 which makes use of both the 2017 and 2016 data.**"
   ]
  },
  {
   "cell_type": "code",
   "execution_count": 2,
   "metadata": {},
   "outputs": [],
   "source": [
    "import pandas as pd\n",
    "import numpy as np\n",
    "import gzip"
   ]
  },
  {
   "cell_type": "code",
   "execution_count": 3,
   "metadata": {},
   "outputs": [
    {
     "data": {
      "text/html": [
       "<div>\n",
       "<style scoped>\n",
       "    .dataframe tbody tr th:only-of-type {\n",
       "        vertical-align: middle;\n",
       "    }\n",
       "\n",
       "    .dataframe tbody tr th {\n",
       "        vertical-align: top;\n",
       "    }\n",
       "\n",
       "    .dataframe thead th {\n",
       "        text-align: right;\n",
       "    }\n",
       "</style>\n",
       "<table border=\"1\" class=\"dataframe\">\n",
       "  <thead>\n",
       "    <tr style=\"text-align: right;\">\n",
       "      <th></th>\n",
       "      <th>practice</th>\n",
       "      <th>bnf_code</th>\n",
       "      <th>bnf_name</th>\n",
       "      <th>items</th>\n",
       "      <th>nic</th>\n",
       "      <th>act_cost</th>\n",
       "      <th>quantity</th>\n",
       "    </tr>\n",
       "  </thead>\n",
       "  <tbody>\n",
       "    <tr>\n",
       "      <th>0</th>\n",
       "      <td>N85639</td>\n",
       "      <td>0106020C0</td>\n",
       "      <td>Bisacodyl_Tab E/C 5mg</td>\n",
       "      <td>1</td>\n",
       "      <td>0.39</td>\n",
       "      <td>0.47</td>\n",
       "      <td>12</td>\n",
       "    </tr>\n",
       "    <tr>\n",
       "      <th>1</th>\n",
       "      <td>N85639</td>\n",
       "      <td>0106040M0</td>\n",
       "      <td>Movicol Plain_Paed Pdr Sach 6.9g</td>\n",
       "      <td>1</td>\n",
       "      <td>4.38</td>\n",
       "      <td>4.07</td>\n",
       "      <td>30</td>\n",
       "    </tr>\n",
       "    <tr>\n",
       "      <th>2</th>\n",
       "      <td>N85639</td>\n",
       "      <td>0301011R0</td>\n",
       "      <td>Salbutamol_Inha 100mcg (200 D) CFF</td>\n",
       "      <td>1</td>\n",
       "      <td>1.50</td>\n",
       "      <td>1.40</td>\n",
       "      <td>1</td>\n",
       "    </tr>\n",
       "    <tr>\n",
       "      <th>3</th>\n",
       "      <td>N85639</td>\n",
       "      <td>0304010G0</td>\n",
       "      <td>Chlorphenamine Mal_Oral Soln 2mg/5ml</td>\n",
       "      <td>1</td>\n",
       "      <td>2.62</td>\n",
       "      <td>2.44</td>\n",
       "      <td>150</td>\n",
       "    </tr>\n",
       "    <tr>\n",
       "      <th>4</th>\n",
       "      <td>N85639</td>\n",
       "      <td>0401020K0</td>\n",
       "      <td>Diazepam_Tab 2mg</td>\n",
       "      <td>1</td>\n",
       "      <td>0.16</td>\n",
       "      <td>0.26</td>\n",
       "      <td>6</td>\n",
       "    </tr>\n",
       "  </tbody>\n",
       "</table>\n",
       "</div>"
      ],
      "text/plain": [
       "  practice   bnf_code                              bnf_name  items   nic  \\\n",
       "0   N85639  0106020C0                 Bisacodyl_Tab E/C 5mg      1  0.39   \n",
       "1   N85639  0106040M0      Movicol Plain_Paed Pdr Sach 6.9g      1  4.38   \n",
       "2   N85639  0301011R0    Salbutamol_Inha 100mcg (200 D) CFF      1  1.50   \n",
       "3   N85639  0304010G0  Chlorphenamine Mal_Oral Soln 2mg/5ml      1  2.62   \n",
       "4   N85639  0401020K0                      Diazepam_Tab 2mg      1  0.16   \n",
       "\n",
       "   act_cost  quantity  \n",
       "0      0.47        12  \n",
       "1      4.07        30  \n",
       "2      1.40         1  \n",
       "3      2.44       150  \n",
       "4      0.26         6  "
      ]
     },
     "execution_count": 3,
     "metadata": {},
     "output_type": "execute_result"
    }
   ],
   "source": [
    "# load the 2017 data\n",
    "with gzip.open(\"./dw-data/201701scripts_sample.csv.gz\",\"r\") as f:\n",
    "    scripts = pd.read_csv(f)\n",
    "scripts.head()"
   ]
  },
  {
   "cell_type": "code",
   "execution_count": 4,
   "metadata": {},
   "outputs": [
    {
     "data": {
      "text/html": [
       "<div>\n",
       "<style scoped>\n",
       "    .dataframe tbody tr th:only-of-type {\n",
       "        vertical-align: middle;\n",
       "    }\n",
       "\n",
       "    .dataframe tbody tr th {\n",
       "        vertical-align: top;\n",
       "    }\n",
       "\n",
       "    .dataframe thead th {\n",
       "        text-align: right;\n",
       "    }\n",
       "</style>\n",
       "<table border=\"1\" class=\"dataframe\">\n",
       "  <thead>\n",
       "    <tr style=\"text-align: right;\">\n",
       "      <th></th>\n",
       "      <th>code</th>\n",
       "      <th>name</th>\n",
       "      <th>addr_1</th>\n",
       "      <th>addr_2</th>\n",
       "      <th>borough</th>\n",
       "      <th>village</th>\n",
       "      <th>post_code</th>\n",
       "    </tr>\n",
       "  </thead>\n",
       "  <tbody>\n",
       "    <tr>\n",
       "      <th>0</th>\n",
       "      <td>A81002</td>\n",
       "      <td>QUEENS PARK MEDICAL CENTRE</td>\n",
       "      <td>QUEENS PARK MEDICAL CTR</td>\n",
       "      <td>FARRER STREET</td>\n",
       "      <td>STOCKTON ON TEES</td>\n",
       "      <td>CLEVELAND</td>\n",
       "      <td>TS18 2AW</td>\n",
       "    </tr>\n",
       "    <tr>\n",
       "      <th>1</th>\n",
       "      <td>A81003</td>\n",
       "      <td>VICTORIA MEDICAL PRACTICE</td>\n",
       "      <td>THE HEALTH CENTRE</td>\n",
       "      <td>VICTORIA ROAD</td>\n",
       "      <td>HARTLEPOOL</td>\n",
       "      <td>CLEVELAND</td>\n",
       "      <td>TS26 8DB</td>\n",
       "    </tr>\n",
       "    <tr>\n",
       "      <th>2</th>\n",
       "      <td>A81004</td>\n",
       "      <td>WOODLANDS ROAD SURGERY</td>\n",
       "      <td>6 WOODLANDS ROAD</td>\n",
       "      <td>NaN</td>\n",
       "      <td>MIDDLESBROUGH</td>\n",
       "      <td>CLEVELAND</td>\n",
       "      <td>TS1 3BE</td>\n",
       "    </tr>\n",
       "    <tr>\n",
       "      <th>3</th>\n",
       "      <td>A81005</td>\n",
       "      <td>SPRINGWOOD SURGERY</td>\n",
       "      <td>SPRINGWOOD SURGERY</td>\n",
       "      <td>RECTORY LANE</td>\n",
       "      <td>GUISBOROUGH</td>\n",
       "      <td>NaN</td>\n",
       "      <td>TS14 7DJ</td>\n",
       "    </tr>\n",
       "    <tr>\n",
       "      <th>4</th>\n",
       "      <td>A81006</td>\n",
       "      <td>TENNANT STREET MEDICAL PRACTICE</td>\n",
       "      <td>TENNANT ST MED PRACT</td>\n",
       "      <td>FARRER STREET</td>\n",
       "      <td>STOCKTON ON TEES</td>\n",
       "      <td>CLEVELAND</td>\n",
       "      <td>TS18 2AT</td>\n",
       "    </tr>\n",
       "  </tbody>\n",
       "</table>\n",
       "</div>"
      ],
      "text/plain": [
       "     code                             name                   addr_1  \\\n",
       "0  A81002       QUEENS PARK MEDICAL CENTRE  QUEENS PARK MEDICAL CTR   \n",
       "1  A81003        VICTORIA MEDICAL PRACTICE        THE HEALTH CENTRE   \n",
       "2  A81004           WOODLANDS ROAD SURGERY         6 WOODLANDS ROAD   \n",
       "3  A81005               SPRINGWOOD SURGERY       SPRINGWOOD SURGERY   \n",
       "4  A81006  TENNANT STREET MEDICAL PRACTICE     TENNANT ST MED PRACT   \n",
       "\n",
       "          addr_2           borough    village post_code  \n",
       "0  FARRER STREET  STOCKTON ON TEES  CLEVELAND  TS18 2AW  \n",
       "1  VICTORIA ROAD        HARTLEPOOL  CLEVELAND  TS26 8DB  \n",
       "2            NaN     MIDDLESBROUGH  CLEVELAND   TS1 3BE  \n",
       "3   RECTORY LANE       GUISBOROUGH        NaN  TS14 7DJ  \n",
       "4  FARRER STREET  STOCKTON ON TEES  CLEVELAND  TS18 2AT  "
      ]
     },
     "execution_count": 4,
     "metadata": {},
     "output_type": "execute_result"
    }
   ],
   "source": [
    "col_names=[ 'code', 'name', 'addr_1', 'addr_2', 'borough', 'village', 'post_code']\n",
    "with gzip.open('./dw-data/practices.csv.gz','r') as f:\n",
    "    practices = pd.read_csv(f)\n",
    "practices.columns = col_names\n",
    "practices.head()"
   ]
  },
  {
   "cell_type": "code",
   "execution_count": 5,
   "metadata": {},
   "outputs": [
    {
     "data": {
      "text/html": [
       "<div>\n",
       "<style scoped>\n",
       "    .dataframe tbody tr th:only-of-type {\n",
       "        vertical-align: middle;\n",
       "    }\n",
       "\n",
       "    .dataframe tbody tr th {\n",
       "        vertical-align: top;\n",
       "    }\n",
       "\n",
       "    .dataframe thead th {\n",
       "        text-align: right;\n",
       "    }\n",
       "</style>\n",
       "<table border=\"1\" class=\"dataframe\">\n",
       "  <thead>\n",
       "    <tr style=\"text-align: right;\">\n",
       "      <th></th>\n",
       "      <th>CHEM SUB</th>\n",
       "      <th>NAME</th>\n",
       "    </tr>\n",
       "  </thead>\n",
       "  <tbody>\n",
       "    <tr>\n",
       "      <th>0</th>\n",
       "      <td>0101010A0</td>\n",
       "      <td>Alexitol Sodium</td>\n",
       "    </tr>\n",
       "    <tr>\n",
       "      <th>1</th>\n",
       "      <td>0101010B0</td>\n",
       "      <td>Almasilate</td>\n",
       "    </tr>\n",
       "    <tr>\n",
       "      <th>2</th>\n",
       "      <td>0101010C0</td>\n",
       "      <td>Aluminium Hydroxide</td>\n",
       "    </tr>\n",
       "    <tr>\n",
       "      <th>3</th>\n",
       "      <td>0101010D0</td>\n",
       "      <td>Aluminium Hydroxide With Magnesium</td>\n",
       "    </tr>\n",
       "    <tr>\n",
       "      <th>4</th>\n",
       "      <td>0101010E0</td>\n",
       "      <td>Hydrotalcite</td>\n",
       "    </tr>\n",
       "  </tbody>\n",
       "</table>\n",
       "</div>"
      ],
      "text/plain": [
       "    CHEM SUB                                NAME\n",
       "0  0101010A0                     Alexitol Sodium\n",
       "1  0101010B0                          Almasilate\n",
       "2  0101010C0                 Aluminium Hydroxide\n",
       "3  0101010D0  Aluminium Hydroxide With Magnesium\n",
       "4  0101010E0                        Hydrotalcite"
      ]
     },
     "execution_count": 5,
     "metadata": {},
     "output_type": "execute_result"
    }
   ],
   "source": [
    "with gzip.open('./dw-data/chem.csv.gz', 'r') as f:\n",
    "    chem = pd.read_csv(f)\n",
    "chem.head()"
   ]
  },
  {
   "cell_type": "markdown",
   "metadata": {},
   "source": [
    "Now that we've loaded in the data, let's first replicate our results from the `PW` miniproject. Note that we are now working with a larger data set so the answers will be different than in the `PW` miniproject even if the analysis is the same."
   ]
  },
  {
   "cell_type": "markdown",
   "metadata": {},
   "source": [
    "## Question 1: summary_statistics\n",
    "\n",
    "In the `PW` miniproject we first calculated the total, mean, standard deviation, and quartile statistics of the `'items'`, `'quantity'`', `'nic'`, and `'act_cost'` fields. To do this we had to write some functions to calculate the statistics and apply the functions to our data structure. The DataFrame has a `describe` method that will calculate most (not all) of these things for us.\n",
    "\n",
    "Submit the summary statistics to the grader as a list of tuples: [('act_cost', (total, mean, std, q25, median, q75)), ...]"
   ]
  },
  {
   "cell_type": "code",
   "execution_count": 27,
   "metadata": {},
   "outputs": [
    {
     "name": "stdout",
     "output_type": "stream",
     "text": [
      "count    973193.000000\n",
      "mean          9.133136\n",
      "std          29.204198\n",
      "min           1.000000\n",
      "25%           1.000000\n",
      "50%           2.000000\n",
      "75%           6.000000\n",
      "max        2384.000000\n",
      "Name: items, dtype: float64\n",
      "8888304\n"
     ]
    }
   ],
   "source": [
    "print(scripts['items'].describe())\n",
    "scripts['items'].describe()[0]\n",
    "print(scripts['items'].sum())"
   ]
  },
  {
   "cell_type": "code",
   "execution_count": 29,
   "metadata": {},
   "outputs": [
    {
     "data": {
      "text/plain": [
       "[('items', (8888304, 9.133135976111625, 29.204198282803603, 1.0, 2.0, 6.0)),\n",
       " ('quantity',\n",
       "  (721457006, 741.3298348837282, 3665.426958467915, 28.0, 100.0, 350.0)),\n",
       " ('nic',\n",
       "  (71100424.84000002, 73.05891517920908, 188.070256906825, 7.8, 22.64, 65.0)),\n",
       " ('act_cost',\n",
       "  (66164096.11999999,\n",
       "   67.98661326170655,\n",
       "   174.40170332301963,\n",
       "   7.33,\n",
       "   21.22,\n",
       "   60.67))]"
      ]
     },
     "execution_count": 29,
     "metadata": {},
     "output_type": "execute_result"
    }
   ],
   "source": [
    "fields = ['items', 'quantity', 'nic', 'act_cost']\n",
    "stats = ['mean', 'std', '25%', '50%', '75%']\n",
    "summary = []\n",
    "for field in fields:\n",
    "    temp = [scripts[field].sum()]\n",
    "    for item in stats:\n",
    "        temp.append(scripts[field].describe()[item])\n",
    "    summary.append((field,tuple(temp)))\n",
    "    "
   ]
  },
  {
   "cell_type": "code",
   "execution_count": 30,
   "metadata": {},
   "outputs": [],
   "source": [
    "# summary_stats = [('items', (0,) * 6), ('quantity', (0,) * 6), ('nic', (0,) * 6), ('act_cost', (0,) * 6)]\n",
    "summary_stats = summary"
   ]
  },
  {
   "cell_type": "code",
   "execution_count": 31,
   "metadata": {},
   "outputs": [
    {
     "name": "stdout",
     "output_type": "stream",
     "text": [
      "==================\n",
      "Your score:  1.0\n",
      "==================\n"
     ]
    }
   ],
   "source": [
    "grader.score.dw__summary_statistics(summary_stats)"
   ]
  },
  {
   "cell_type": "markdown",
   "metadata": {},
   "source": [
    "## Question 2: most_common_item\n",
    "\n",
    "We can also easily compute summary statistics on groups within the data. In the `pw` miniproject we had to explicitly construct the groups based on the values of a particular field. Pandas will handle that for us via the `groupby` method. This process is [detailed in the Pandas documentation](https://pandas.pydata.org/pandas-docs/stable/groupby.html).\n",
    "\n",
    "Use `groupby` to calculate the total number of items dispensed for each `'bnf_name'`. Find the item with the highest total and return the result as `[(bnf_name, total)]`."
   ]
  },
  {
   "cell_type": "code",
   "execution_count": null,
   "metadata": {},
   "outputs": [],
   "source": [
    "most_common_item=[(\"Omeprazole_Cap E/C 20mg\",218583)]"
   ]
  },
  {
   "cell_type": "code",
   "execution_count": 14,
   "metadata": {},
   "outputs": [],
   "source": [
    "bnf = scripts.groupby('bnf_name').sum()\n",
    "name = bnf['items'].idxmax()\n",
    "total = bnf['items'].max()\n"
   ]
  },
  {
   "cell_type": "code",
   "execution_count": 15,
   "metadata": {},
   "outputs": [],
   "source": [
    "most_common_item = [(name, total)]"
   ]
  },
  {
   "cell_type": "code",
   "execution_count": 16,
   "metadata": {},
   "outputs": [
    {
     "name": "stdout",
     "output_type": "stream",
     "text": [
      "==================\n",
      "Your score:  1.0\n",
      "==================\n"
     ]
    }
   ],
   "source": [
    "grader.score.dw__most_common_item(most_common_item)"
   ]
  },
  {
   "cell_type": "markdown",
   "metadata": {},
   "source": [
    "## Question 3: items_by_region\n",
    "\n",
    "Now let's find the most common item by post code. The post code information is in the `practices` DataFrame, and we'll need to `merge` it into the `scripts` DataFrame. Pandas provides [extensive documentation](https://pandas.pydata.org/pandas-docs/stable/merging.html) with diagrammed examples on different methods and approaches for joining data. The `merge` method is only one of many possible options.\n",
    "\n",
    "Return your results as a list of tuples `(post code, item name, amount dispensed as % of total)`. Sort your results ascending alphabetically by post code and take only results from the first 100 post codes.\n",
    "\n",
    "**NOTE:** Some practices have multiple postal codes associated with them. Use the alphabetically first postal code. Note some postal codes may have multiple `'bnf_name'` with the same prescription rate for the maximum. In this case, take the alphabetically first `'bnf_name'` (as in the PW miniproject)."
   ]
  },
  {
   "cell_type": "code",
   "execution_count": 26,
   "metadata": {},
   "outputs": [
    {
     "data": {
      "text/plain": [
       "[('B11 4BW', 'Salbutamol_Inha 100mcg (200 D) CFF', 0.031058906339360346),\n",
       " ('B12 9LP', 'Paracet_Tab 500mg', 0.02489310607391788),\n",
       " ('B18 7AL', 'Salbutamol_Inha 100mcg (200 D) CFF', 0.027111371172225472),\n",
       " ('B21 9RY', 'Metformin HCl_Tab 500mg', 0.03329358300834757),\n",
       " ('B23 6DJ', 'Lansoprazole_Cap 30mg (E/C Gran)', 0.021384456106529576),\n",
       " ('B61 0AZ', 'Omeprazole_Cap E/C 20mg', 0.028713318284424378),\n",
       " ('B70 7AW', 'Paracet_Tab 500mg', 0.025135992162726547),\n",
       " ('B72 1RL', 'Omeprazole_Cap E/C 20mg', 0.020228765092141495),\n",
       " ('B8 1RZ', 'Metformin HCl_Tab 500mg', 0.021347750961484866),\n",
       " ('B9 5PU', 'Ventolin_Evohaler 100mcg (200 D)', 0.024826024522257815),\n",
       " ('B90 3LX', 'Omeprazole_Cap E/C 20mg', 0.026965103983080718),\n",
       " ('BA5 1XJ', 'Omeprazole_Cap E/C 20mg', 0.028261290947858113),\n",
       " ('BB11 2DL', 'Omeprazole_Cap E/C 20mg', 0.027381741821396993),\n",
       " ('BB2 1AX', 'Omeprazole_Cap E/C 20mg', 0.03428191046763188),\n",
       " ('BB3 1PY', 'Omeprazole_Cap E/C 20mg', 0.032683395995453356),\n",
       " ('BB4 5SL', 'Omeprazole_Cap E/C 20mg', 0.03747689029549087),\n",
       " ('BB4 7PL', 'Omeprazole_Cap E/C 20mg', 0.027477496877557173),\n",
       " ('BB7 2JG', 'Omeprazole_Cap E/C 20mg', 0.027980664806967485),\n",
       " ('BB8 0JZ', 'Atorvastatin_Tab 20mg', 0.021515746650768042),\n",
       " ('BB9 7SR', 'Omeprazole_Cap E/C 20mg', 0.02247662283190644),\n",
       " ('BD16 4RP', 'Lansoprazole_Cap 30mg (E/C Gran)', 0.022780283004198414),\n",
       " ('BD19 5AP', 'Lansoprazole_Cap 30mg (E/C Gran)', 0.02066220372715759),\n",
       " ('BD3 8QH', 'Atorvastatin_Tab 40mg', 0.031662850096882154),\n",
       " ('BD4 7SS', 'Atorvastatin_Tab 40mg', 0.03424183501960914),\n",
       " ('BH14 0DJ', 'Omeprazole_Cap E/C 20mg', 0.02838931332218254),\n",
       " ('BH18 8EE', 'Omeprazole_Cap E/C 20mg', 0.027092370049064923),\n",
       " ('BH23 3AF', 'Omeprazole_Cap E/C 20mg', 0.03546099290780142),\n",
       " ('BL1 3RG', 'Omeprazole_Cap E/C 20mg', 0.03362566656383588),\n",
       " ('BL1 8TU', 'Omeprazole_Cap E/C 20mg', 0.027729220222793487),\n",
       " ('BL2 6NT', 'Omeprazole_Cap E/C 20mg', 0.0271567320510379),\n",
       " ('BL3 5HP', 'Omeprazole_Cap E/C 20mg', 0.03129933420275929),\n",
       " ('BL9 0NJ', 'Omeprazole_Cap E/C 20mg', 0.032037565382786494),\n",
       " ('BL9 0SN', 'Omeprazole_Cap E/C 20mg', 0.03090454288711369),\n",
       " ('BN1 6AG', 'Lansoprazole_Cap 15mg (E/C Gran)', 0.021755523716160168),\n",
       " ('BN1 8DD', 'Aspirin Disper_Tab 75mg', 0.021517850460294887),\n",
       " ('BN9 9PW', 'Omeprazole_Cap E/C 20mg', 0.01855317763853853),\n",
       " ('BR2 9GT', 'Influenza_Vac Inact 0.5ml Pfs', 0.04301700334253742),\n",
       " ('BR3 3FD', 'Omeprazole_Cap E/C 20mg', 0.02865911645197545),\n",
       " ('BS16 3TD', 'Omeprazole_Cap E/C 20mg', 0.03752737892431249),\n",
       " ('BS23 3HQ', 'Omeprazole_Cap E/C 20mg', 0.030246216399367518),\n",
       " ('BS4 1WH', 'Omeprazole_Cap E/C 20mg', 0.029600778967867575),\n",
       " ('BS4 4HU', 'Omeprazole_Cap E/C 20mg', 0.037361354349095155),\n",
       " ('BS48 2XX', 'Omeprazole_Cap E/C 20mg', 0.030207346595095254),\n",
       " ('CA11 8HW', 'Omeprazole_Cap E/C 20mg', 0.027868623340321454),\n",
       " ('CB22 3HU', 'Omeprazole_Cap E/C 20mg', 0.038775726713346066),\n",
       " ('CB9 8HF', 'Omeprazole_Cap E/C 20mg', 0.03391110538046382),\n",
       " ('CH1 4DS', 'Lansoprazole_Cap 30mg (E/C Gran)', 0.0257736189772634),\n",
       " ('CH41 8DB', 'Omeprazole_Cap E/C 20mg', 0.03327732469980738),\n",
       " ('CH44 5UF', 'Omeprazole_Cap E/C 20mg', 0.03327334826839032),\n",
       " ('CH62 5HS', 'Omeprazole_Cap E/C 20mg', 0.037778835690968446),\n",
       " ('CH62 6EE', 'Influenza_Vac Inact 0.5ml Pfs', 0.057585894269547),\n",
       " ('CH65 6TG', 'Lansoprazole_Cap 30mg (E/C Gran)', 0.026067517902474142),\n",
       " ('CH66 3PB', 'Lansoprazole_Cap 30mg (E/C Gran)', 0.03100619319552803),\n",
       " ('CM18 6LY', 'Omeprazole_Cap E/C 20mg', 0.026445315758738635),\n",
       " ('CR0 0JA', 'Salbutamol_Inha 100mcg (200 D) CFF', 0.021571724750715768),\n",
       " ('CT11 8AD', 'Omeprazole_Cap E/C 20mg', 0.022307039864291774),\n",
       " ('CV1 4FS', 'Omeprazole_Cap E/C 20mg', 0.028455180531743392),\n",
       " ('CV12 8NQ', 'Omeprazole_Cap E/C 20mg', 0.026444799282852902),\n",
       " ('CV21 2DN', 'Omeprazole_Cap E/C 20mg', 0.04102890311294875),\n",
       " ('CV6 2FL', 'Omeprazole_Cap E/C 20mg', 0.036250663502669624),\n",
       " ('CV6 6DR', 'Omeprazole_Cap E/C 20mg', 0.030544721504009817),\n",
       " ('CW1 3AW', 'Omeprazole_Cap E/C 20mg', 0.03558258199497268),\n",
       " ('CW5 5NX', 'Omeprazole_Cap E/C 20mg', 0.03453647138997736),\n",
       " ('CW7 1AT', 'Omeprazole_Cap E/C 20mg', 0.03666371289322109),\n",
       " ('DA1 2HA', 'Omeprazole_Cap E/C 20mg', 0.019244977658938185),\n",
       " ('DA11 8BZ', 'Amoxicillin_Cap 500mg', 0.019686834904226208),\n",
       " ('DN16 2AB', 'Amlodipine_Tab 5mg', 0.019925280199252802),\n",
       " ('DN22 7XF', 'Simvastatin_Tab 40mg', 0.018624361621210474),\n",
       " ('DN31 3AE', 'Omeprazole_Cap E/C 20mg', 0.03432952436761402),\n",
       " ('DN34 4GB', 'Omeprazole_Cap E/C 20mg', 0.03709507845509909),\n",
       " ('DN6 0HZ', 'Paracet_Tab 500mg', 0.025764099668243102),\n",
       " ('DN8 4BQ', 'Lansoprazole_Cap 30mg (E/C Gran)', 0.021703061442945835),\n",
       " ('DY11 6SF', 'Omeprazole_Cap E/C 20mg', 0.021081859317153433),\n",
       " ('E15 4ES', 'Amlodipine_Tab 10mg', 0.02569068641412703),\n",
       " ('E7 0EP', 'Metformin HCl_Tab 500mg', 0.037244933982913224),\n",
       " ('FY2 0JG', 'Omeprazole_Cap E/C 20mg', 0.03627638093657511),\n",
       " ('FY4 1TJ', 'Omeprazole_Cap E/C 20mg', 0.04334478808705613),\n",
       " ('FY5 2TZ', 'Omeprazole_Cap E/C 20mg', 0.03540407051009112),\n",
       " ('FY5 3LF', 'Omeprazole_Cap E/C 20mg', 0.035122866094073016),\n",
       " ('FY7 8GU', 'Omeprazole_Cap E/C 20mg', 0.032058079778122195),\n",
       " ('FY8 5DZ', 'Omeprazole_Cap E/C 20mg', 0.02969960416717259),\n",
       " ('GL1 3PX', 'Omeprazole_Cap E/C 20mg', 0.025687801991914012),\n",
       " ('GL20 5GJ', 'Omeprazole_Cap E/C 20mg', 0.02412690753362688),\n",
       " ('GL50 4DP', 'Omeprazole_Cap E/C 20mg', 0.024009042366605605),\n",
       " ('GU9 9QS', 'Omeprazole_Cap E/C 20mg', 0.027052485943893322),\n",
       " ('HA0 4UZ', 'Metformin HCl_Tab 500mg', 0.027855843941147297),\n",
       " ('HA3 7LT', 'Omeprazole_Cap E/C 20mg', 0.02504635488712953),\n",
       " ('HD6 1AT', 'Lansoprazole_Cap 30mg (E/C Gran)', 0.021017471736896196),\n",
       " ('HG1 5AR', 'Omeprazole_Cap E/C 20mg', 0.02842489568845619),\n",
       " ('HR1 2JB', 'Omeprazole_Cap E/C 20mg', 0.028529603122966818),\n",
       " ('HR6 8HD', 'Omeprazole_Cap E/C 20mg', 0.027207967812149594),\n",
       " ('HU7 4DW', 'Salbutamol_Inha 100mcg (200 D) CFF', 0.025607843137254904),\n",
       " ('HU9 2LJ', 'Lansoprazole_Cap 30mg (E/C Gran)', 0.0243192109011288),\n",
       " ('IG7 4DF', 'Amlodipine_Tab 5mg', 0.01956475808155504),\n",
       " ('IP22 4WG', 'Omeprazole_Cap E/C 20mg', 0.02851095218241878),\n",
       " ('KT12 3LB', 'Omeprazole_Cap E/C 20mg', 0.01828471919895516),\n",
       " ('KT14 6DH', 'Amlodipine_Tab 5mg', 0.018667887710894296),\n",
       " ('KT16 8HZ', 'Amlodipine_Tab 5mg', 0.019319714781268066),\n",
       " ('KT6 6EZ', 'Omeprazole_Cap E/C 20mg', 0.02821316614420063),\n",
       " ('L31 0DJ', 'Omeprazole_Cap E/C 20mg', 0.029425653739448675),\n",
       " ('L34 1ND', 'Aspirin Disper_Tab 75mg', 0.022039828651777248),\n",
       " ('L36 0UB', 'Salbutamol_Inha 100mcg (200 D) CFF', 0.022442919039968843),\n",
       " ('L36 7XY', 'Salbutamol_Inha 100mcg (200 D) CFF', 0.027954155185495787),\n",
       " ('L5 0QW', 'Omeprazole_Cap E/C 20mg', 0.031272236994869106),\n",
       " ('L7 6HD', 'Salbutamol_Inha 100mcg (200 D) CFF', 0.025663458734324875),\n",
       " ('L9 1AD', 'Omeprazole_Cap E/C 20mg', 0.03398316349136021),\n",
       " ('LA1 1PN', 'Omeprazole_Cap E/C 20mg', 0.0341971411913713),\n",
       " ('LE10 1DS', 'Aspirin Disper_Tab 75mg', 0.021172132738210753),\n",
       " ('LE18 2EW', 'Lansoprazole_Cap 15mg (E/C Gran)', 0.024855054197126292),\n",
       " ('LE2 9BU', 'Lansoprazole_Cap 15mg (E/C Gran)', 0.025352806038726618),\n",
       " ('LE5 3GH', 'Metformin HCl_Tab 500mg', 0.033338796918537944),\n",
       " ('LE7 2EQ', 'Lansoprazole_Cap 15mg (E/C Gran)', 0.024983277591973243),\n",
       " ('LN1 2NU', 'Omeprazole_Cap E/C 20mg', 0.033066837224176526),\n",
       " ('LN2 2JP', 'Omeprazole_Cap E/C 20mg', 0.03444011624312125),\n",
       " ('LN6 0QQ', 'Omeprazole_Cap E/C 20mg', 0.03089724789414453),\n",
       " ('LS9 9EF', 'Lansoprazole_Cap 30mg (E/C Gran)', 0.029768274412903476),\n",
       " ('M11 4EJ', 'Omeprazole_Cap E/C 20mg', 0.029934329801377866),\n",
       " ('M13 9UJ', 'Influenza_Vac Inact 0.5ml Pfs', 0.031097855169086364),\n",
       " ('M22 5RX', 'Omeprazole_Cap E/C 20mg', 0.03827193690060052),\n",
       " ('M22 9UH', 'Omeprazole_Cap E/C 20mg', 0.040464846767962914),\n",
       " ('M26 2SP', 'Omeprazole_Cap E/C 20mg', 0.03877509939107242),\n",
       " ('M28 3AT', 'Omeprazole_Cap E/C 20mg', 0.03868133320120239),\n",
       " ('M30 0NU', 'Omeprazole_Cap E/C 20mg', 0.03577693319690104),\n",
       " ('M34 2AJ', 'Omeprazole_Cap E/C 20mg', 0.029074444367831943),\n",
       " ('M35 0AD', 'Omeprazole_Cap E/C 20mg', 0.028680830039525693),\n",
       " ('M7 1RD', 'Omeprazole_Cap E/C 20mg', 0.036935758728648994),\n",
       " ('ME12 1UP', 'Salbutamol_Inha 100mcg (200 D) CFF', 0.02014185687005547),\n",
       " ('ME12 3LT', 'Amoxicillin_Cap 500mg', 0.02156322989656323),\n",
       " ('ME8 8AA', 'Omeprazole_Cap E/C 20mg', 0.021543196306880633),\n",
       " ('N12 9SS', 'Omeprazole_Cap E/C 20mg', 0.0265472246083364),\n",
       " ('N15 4JR', 'Metformin HCl_Tab 500mg', 0.02628786582235153),\n",
       " ('N9 0TW', 'Influenza_Vac Inact 0.5ml Pfs', 0.07065587860466495),\n",
       " ('N9 7HD', 'Lansoprazole_Cap 30mg (E/C Gran)', 0.024433813733801622),\n",
       " ('NE10 9QG', 'Paracet_Tab 500mg', 0.04235886371808702),\n",
       " ('NE20 9SD', 'Influenza_Vac Inact 0.5ml Pfs', 0.036067793444766086),\n",
       " ('NE24 1DX', 'Paracet_Tab 500mg', 0.030756079027355623),\n",
       " ('NE27 0HJ', 'Paracet_Tab 500mg', 0.027976266428480286),\n",
       " ('NE29 0SF', 'Paracet_Tab 500mg', 0.03229937393284007),\n",
       " ('NE31 1NU', 'Paracet_Tab 500mg', 0.03234359975523762),\n",
       " ('NE37 2PU', 'Paracet_Tab 500mg', 0.026910892423833918),\n",
       " ('NE38 7NQ', 'Paracet_Tab 500mg', 0.029858336360334182),\n",
       " ('NG10 1RY', 'Omeprazole_Cap E/C 20mg', 0.02487620844140533),\n",
       " ('NG2 7SD', 'Amlodipine_Tab 5mg', 0.02105812739296902),\n",
       " ('NG6 8QJ', 'Paracet_Tab 500mg', 0.023769398216417388),\n",
       " ('NG7 3GW', 'Paracet_Tab 500mg', 0.020517348846873052),\n",
       " ('NG7 5HY', 'Paracet_Tab 500mg', 0.02340911644630885),\n",
       " ('NG8 6AS', 'Coloplast_Brava Adh Remover Spy 50ml', 0.06172150957427031),\n",
       " ('NN16 8DN', 'Omeprazole_Cap E/C 20mg', 0.03390692070186008),\n",
       " ('NN3 8DW', 'Omeprazole_Cap E/C 20mg', 0.025831341468528536),\n",
       " ('NR28 0BQ', 'Omeprazole_Cap E/C 20mg', 0.02001171646162859),\n",
       " ('NW10 8RY', 'Metformin HCl_Tab 500mg', 0.028801245459263103),\n",
       " ('OL1 1NL', 'Omeprazole_Cap E/C 20mg', 0.032085311381866655),\n",
       " ('OL11 1DN', 'Influenza_Vac Inact 0.5ml Pfs', 0.03555701880735833),\n",
       " ('OL2 6QW', 'Omeprazole_Cap E/C 20mg', 0.031949782218806046),\n",
       " ('OL4 1YN', 'Omeprazole_Cap E/C 20mg', 0.02603633797847945),\n",
       " ('OL6 6HD', 'Omeprazole_Cap E/C 20mg', 0.026173701191808785),\n",
       " ('OL6 7SR', 'Salbutamol_Inha 100mcg (200 D) CFF', 0.020958308338332333),\n",
       " ('OL9 0LH', 'Omeprazole_Cap E/C 20mg', 0.032224606580829755),\n",
       " ('OL9 7AY', 'Omeprazole_Cap E/C 20mg', 0.030959345318302824),\n",
       " ('OX12 9BN', 'Omeprazole_Cap E/C 20mg', 0.038543643263757116),\n",
       " ('OX16 9AD', 'Omeprazole_Cap E/C 20mg', 0.035215932173452265),\n",
       " ('PE1 2QP', 'Omeprazole_Cap E/C 20mg', 0.02757485750983383),\n",
       " ('PE21 8EG', 'Omeprazole_Cap E/C 20mg', 0.03355226470041514),\n",
       " ('PL7 1AD', 'Omeprazole_Cap E/C 20mg', 0.03630706895304247),\n",
       " ('PO11 9AP', 'Omeprazole_Cap E/C 20mg', 0.0344063192731587),\n",
       " ('PR25 1HR', 'Lansoprazole_Cap 30mg (E/C Gran)', 0.026283172936716243),\n",
       " ('PR3 1PB', 'Omeprazole_Cap E/C 20mg', 0.0321174688264771),\n",
       " ('RM3 9SU', 'Salbutamol_Inha 100mcg (200 D) CFF', 0.025737048867349562),\n",
       " ('S6 4JQ', 'Omeprazole_Cap E/C 20mg', 0.03884853536556323),\n",
       " ('S63 9EH', 'Salbutamol_Inha 100mcg (200 D) CFF', 0.028120879416592665),\n",
       " ('S65 1DA', 'Influenza_Vac Inact 0.5ml Pfs', 0.02315783751460955),\n",
       " ('S70 1QE', 'Omeprazole_Cap E/C 20mg', 0.03487876592662036),\n",
       " ('S74 9AF', 'Omeprazole_Cap E/C 20mg', 0.03427468018344195),\n",
       " ('SE1 6JP', 'Metformin HCl_Tab 500mg', 0.022291507593111055),\n",
       " ('SE15 5LJ', 'Metformin HCl_Tab 500mg', 0.022155085599194362),\n",
       " ('SE25 5NT', 'Omeprazole_Cap E/C 20mg', 0.02345441424103921),\n",
       " ('SE8 4BG', 'Amoxicillin_Cap 500mg', 0.02948456610366919),\n",
       " ('SK11 6JL', 'Omeprazole_Cap E/C 20mg', 0.02866863193894),\n",
       " ('SK6 1ND', 'Lansoprazole_Cap 30mg (E/C Gran)', 0.018010806483890335),\n",
       " ('SK8 3JD', 'Omeprazole_Cap E/C 20mg', 0.025381103458949162),\n",
       " ('SK8 6LU', 'Simvastatin_Tab 40mg', 0.02197471402769416),\n",
       " ('SL9 9SA', 'Omeprazole_Cap E/C 20mg', 0.029495274823070728),\n",
       " ('SM3 8EP', 'Omeprazole_Cap E/C 20mg', 0.02806633173421977),\n",
       " ('SM6 0HY', 'Omeprazole_Cap E/C 20mg', 0.029984175589305165),\n",
       " ('SR4 7XF', 'Paracet_Tab 500mg', 0.032750923645320194),\n",
       " ('SR5 2LT', 'Paracet_Tab 500mg', 0.03407965962466036),\n",
       " ('SR7 7JE', 'Lansoprazole_Cap 30mg (E/C Gran)', 0.032015775889568776),\n",
       " ('SS0 7AF', 'Omeprazole_Cap E/C 20mg', 0.019305508617776277),\n",
       " ('SS13 3HQ', 'Lansoprazole_Cap 30mg (E/C Gran)', 0.0242175398913284),\n",
       " ('SS4 1AY', 'Influenza_Vac Inact 0.5ml Pfs', 0.031081171213232842),\n",
       " ('SS7 4EA', 'Omeprazole_Cap E/C 20mg', 0.027214741318214032),\n",
       " ('SS8 0JA', 'Omeprazole_Cap E/C 20mg', 0.025750804059980786),\n",
       " ('SS9 5UU', 'Influvac Sub-Unit_Vac 0.5ml Pfs', 0.02319551506657323),\n",
       " ('ST1 4PB', 'Omeprazole_Cap E/C 20mg', 0.027404066656474546),\n",
       " ('ST3 1EQ', 'Omeprazole_Cap E/C 20mg', 0.03478994254388277),\n",
       " ('ST3 6AB', 'Omeprazole_Cap E/C 20mg', 0.02964867180805484),\n",
       " ('ST7 2LU', 'Omeprazole_Cap E/C 20mg', 0.04062938848461636),\n",
       " ('ST7 4AY', 'Omeprazole_Cap E/C 20mg', 0.037616672030897975),\n",
       " ('ST8 6AG', 'Omeprazole_Cap E/C 20mg', 0.037111388421680866),\n",
       " ('TF3 2JZ', 'Omeprazole_Cap E/C 20mg', 0.029868499306152117),\n",
       " ('TN24 0GP', 'Amoxicillin_Cap 500mg', 0.08076728924785462),\n",
       " ('TN34 1BA', 'Omeprazole_Cap E/C 20mg', 0.02941529115542944),\n",
       " ('TQ2 6HW', 'Omeprazole_Cap E/C 20mg', 0.0260090211469744),\n",
       " ('TR1 2JA', 'Omeprazole_Cap E/C 20mg', 0.04348842100343514),\n",
       " ('TS1 2NX', 'Paracet_Tab 500mg', 0.02623580227163654),\n",
       " ('TS10 4NW', 'Paracet_Tab 500mg', 0.022259946949602122),\n",
       " ('TS14 7DJ', 'Paracet_Tab 500mg', 0.023714901685758072),\n",
       " ('TS17 0EE', 'Lansoprazole_Cap 30mg (E/C Gran)', 0.02413763949949273),\n",
       " ('TS23 2DG', 'Paracet_Tab 500mg', 0.0240040402840082),\n",
       " ('TS24 7PW', 'Paracet_Tab 500mg', 0.037472679646962645),\n",
       " ('TS3 6AL', 'Lansoprazole_Cap 30mg (E/C Gran)', 0.026005216053436402),\n",
       " ('TS6 6TD', 'Paracet_Tab 500mg', 0.024765917602996255),\n",
       " ('TS8 0TL', 'Paracet_Tab 500mg', 0.026320882523708147),\n",
       " ('TW13 4GU', 'Omeprazole_Cap E/C 20mg', 0.02728921124206709),\n",
       " ('TW3 2DY', 'Omeprazole_Cap E/C 20mg', 0.029966281996485728),\n",
       " ('TW3 3LN', 'Omeprazole_Cap E/C 20mg', 0.02613091565006883),\n",
       " ('TW5 9ER', 'Metformin HCl_Tab 500mg', 0.02605377428834598),\n",
       " ('TW8 8DS', 'Omeprazole_Cap E/C 20mg', 0.03781188673955705),\n",
       " ('UB5 6WL', 'Salbutamol_Inha 100mcg (200 D) CFF', 0.026409317075837935),\n",
       " ('W10 6DZ', 'Amoxicillin_Cap 500mg', 0.026310007689772603),\n",
       " ('W12 7FG', 'Omeprazole_Cap E/C 20mg', 0.02568727453663391),\n",
       " ('W4 1RX', 'Omeprazole_Cap E/C 20mg', 0.027025865772965542),\n",
       " ('WA1 3RB', 'Omeprazole_Cap E/C 20mg', 0.03835692040840462),\n",
       " ('WA10 2DJ', 'Lansoprazole_Cap 15mg (E/C Gran)', 0.018514150943396226),\n",
       " ('WA11 0JN', 'Omeprazole_Cap E/C 20mg', 0.023628619121625512),\n",
       " ('WA15 6PH', 'Omeprazole_Cap E/C 20mg', 0.032920582823611315),\n",
       " ('WA3 3GS', 'Omeprazole_Cap E/C 20mg', 0.039337136647650095),\n",
       " ('WA6 6RX', 'Lansoprazole_Cap 30mg (E/C Gran)', 0.027446336946291405),\n",
       " ('WA7 1AB', 'Omeprazole_Cap E/C 20mg', 0.039206715922867535),\n",
       " ('WA7 2UT', 'Omeprazole_Cap E/C 20mg', 0.0375),\n",
       " ('WA9 1LN', 'Lansoprazole_Cap 15mg (E/C Gran)', 0.020123543271986243),\n",
       " ('WD18 0JP', 'Omeprazole_Cap E/C 20mg', 0.030174508504528384),\n",
       " ('WD18 7QR', 'Omeprazole_Cap E/C 20mg', 0.03075911264007285),\n",
       " ('WD23 2NN', 'Omeprazole_Cap E/C 20mg', 0.028030868807567836),\n",
       " ('WD3 7DJ', 'Omeprazole_Cap E/C 20mg', 0.029235482152370804),\n",
       " ('WF13 1HN', 'Lansoprazole_Cap 30mg (E/C Gran)', 0.01986826867400116),\n",
       " ('WF16 0HH', 'Paracet_Tab 500mg', 0.02311553161118018),\n",
       " ('WF5 8DF', 'Salbutamol_Inha 100mcg (200 D) CFF', 0.021280505733607763),\n",
       " ('WF9 3AP', 'Atorvastatin_Tab 20mg', 0.020415072620780714),\n",
       " ('WN2 5NG', 'Omeprazole_Cap E/C 20mg', 0.03701367811108045),\n",
       " ('WN3 5HL', 'Omeprazole_Cap E/C 20mg', 0.04438042112360928),\n",
       " ('WN5 9QX', 'Omeprazole_Cap E/C 20mg', 0.04295765954820393),\n",
       " ('WN7 1HR', 'Omeprazole_Cap E/C 20mg', 0.034880322172063265),\n",
       " ('WN7 2PE', 'Omeprazole_Cap E/C 20mg', 0.03824701195219123),\n",
       " ('WR11 4BS', 'Imuvac_Vac 0.5ml Pfs', 0.036331025277383834),\n",
       " ('WR14 2GP', 'Omeprazole_Cap E/C 20mg', 0.026850763807285547),\n",
       " ('WR9 8RD', 'Omeprazole_Cap E/C 20mg', 0.02847475669099757),\n",
       " ('WS1 3PS', 'Metformin HCl_Tab 500mg', 0.020429206676548302),\n",
       " ('WS10 8SY', 'Salbutamol_Inha 100mcg (200 D) CFF', 0.02410069369949224),\n",
       " ('WS11 9SE', 'Lansoprazole_Cap 30mg (E/C Gran)', 0.02038633360599006),\n",
       " ('WS13 6JL', 'Aspirin Disper_Tab 75mg', 0.023138879836119),\n",
       " ('WS13 7HT', 'Omeprazole_Cap E/C 20mg', 0.017992454777028988),\n",
       " ('WS2 0BA', 'Influenza_Vac Inact 0.5ml Pfs', 0.05052490044991467),\n",
       " ('WS3 1ET', 'Salbutamol_Inha 100mcg (200 D) CFF', 0.02199909178061456),\n",
       " ('WS3 3JP', 'Paracet_Tab 500mg', 0.02138791000271076),\n",
       " ('WS9 8AJ', 'Amlodipine_Tab 5mg', 0.0161744884205367),\n",
       " ('WV13 2DR', 'Salbutamol_Inha 100mcg (200 D) CFF', 0.022236881888898052),\n",
       " ('YO11 1UB', 'Omeprazole_Cap E/C 20mg', 0.029712000561265654),\n",
       " ('YO16 4LZ', 'Aspirin Disper_Tab 75mg', 0.022173937266700094)]"
      ]
     },
     "execution_count": 26,
     "metadata": {},
     "output_type": "execute_result"
    }
   ],
   "source": [
    "merged = pd.merge(scripts, practices, left_on ='practice' , right_on ='code')\n",
    "# Group by post_code and bnf_name\n",
    "grouped_by_pc_bnfnames = merged.groupby(['post_code', 'bnf_name'])\n",
    "# Take sum of items using the group\n",
    "total_items = grouped_by_pc_bnfnames.items.sum()\n",
    "# Get the list of sorted postal codes\n",
    "practice_postal = practices.groupby('code')['post_code'].unique().apply(min)\n",
    "\n",
    "scripts['post_code'] = [practice_postal[practice] for practice in scripts['practice']]\n",
    "\n",
    "items_by_post_code = {post_code: post_group.groupby('bnf_name')['items'].sum()\n",
    "                      for post_code, post_group in scripts.groupby('post_code')[['items', 'bnf_name']]}\n",
    "\n",
    "max_items_by_post_code = [(post_code,) + list(items.sort_index().nlargest(1).items())[0]\n",
    "                           for post_code, items in items_by_post_code.items()]\n",
    "\n",
    "total_items_in_postcode = scripts.groupby('post_code')['items'].sum()\n",
    "\n",
    "max_items_proportions = [(postcode, bnf_name, total / total_items_in_postcode[postcode])\n",
    "                          for postcode, bnf_name, total in max_items_by_post_code]\n",
    "max_items_proportions"
   ]
  },
  {
   "cell_type": "code",
   "execution_count": 29,
   "metadata": {},
   "outputs": [],
   "source": [
    "items_by_region = max_items_proportions[:100]"
   ]
  },
  {
   "cell_type": "code",
   "execution_count": 30,
   "metadata": {},
   "outputs": [
    {
     "name": "stdout",
     "output_type": "stream",
     "text": [
      "==================\n",
      "Your score:  1.0\n",
      "==================\n"
     ]
    }
   ],
   "source": [
    "grader.score.dw__items_by_region(items_by_region)"
   ]
  },
  {
   "cell_type": "markdown",
   "metadata": {},
   "source": [
    "## Question 4: script_anomalies\n",
    "\n",
    "Drug abuse is a source of human and monetary costs in health care. A first step in identifying practitioners that enable drug abuse is to look for practices where commonly abused drugs are prescribed unusually often. Let's try to find practices that prescribe an unusually high amount of opioids. The opioids we'll look for are given in the list below."
   ]
  },
  {
   "cell_type": "code",
   "execution_count": 6,
   "metadata": {},
   "outputs": [],
   "source": [
    "opioids = ['morphine', 'oxycodone', 'methadone', 'fentanyl', 'pethidine', 'buprenorphine', 'propoxyphene', 'codeine']"
   ]
  },
  {
   "cell_type": "markdown",
   "metadata": {},
   "source": [
    "These are generic names for drugs, not brand names. Generic drug names can be found using the `'bnf_code'` field in `scripts` along with the `chem` table.. Use the list of opioids provided above along with these fields to make a new field in the `scripts` data that flags whether the row corresponds with a opioid prescription."
   ]
  },
  {
   "cell_type": "markdown",
   "metadata": {},
   "source": [
    "Now for each practice calculate the proportion of its prescriptions containing opioids.\n",
    "\n",
    "**Hint:** Consider the following list: `[0, 1, 1, 0, 0, 0]`. What proportion of the entries are 1s? What is the mean value?"
   ]
  },
  {
   "cell_type": "markdown",
   "metadata": {},
   "source": [
    "How do these proportions compare to the overall opioid prescription rate? Subtract off the proportion of all prescriptions that are opioids from each practice's proportion."
   ]
  },
  {
   "cell_type": "markdown",
   "metadata": {},
   "source": [
    "Now that we know the difference between each practice's opioid prescription rate and the overall rate, we can identify which practices prescribe opioids at above average or below average rates. However, are the differences from the overall rate important or just random deviations? In other words, are the differences from the overall rate big or small?\n",
    "\n",
    "To answer this question we have to quantify the difference we would typically expect between a given practice's opioid prescription rate and the overall rate. This quantity is called the **standard error**, and is related to the **standard deviation**, $\\sigma$. The standard error in this case is\n",
    "\n",
    "$$ \\frac{\\sigma}{\\sqrt{n}} $$\n",
    "\n",
    "where $n$ is the number of prescriptions each practice made. Calculate the standard error for each practice. Then divide `relative_opioids_per_practice` by the standard errors. We'll call the final result `opioid_scores`."
   ]
  },
  {
   "cell_type": "code",
   "execution_count": null,
   "metadata": {},
   "outputs": [],
   "source": [
    "standard_error_per_practice = ...\n",
    "opioid_scores = ..."
   ]
  },
  {
   "cell_type": "markdown",
   "metadata": {},
   "source": [
    "The quantity we have calculated in `opioid_scores` is called a **z-score**:\n",
    "\n",
    "$$ \\frac{\\bar{X} - \\mu}{\\sqrt{\\sigma^2/n}} $$\n",
    "\n",
    "Here $\\bar{X}$ corresponds with the proportion for each practice, $\\mu$ corresponds with the proportion across all practices, $\\sigma^2$ corresponds with the variance of the proportion across all practices, and $n$ is the number of prescriptions made by each practice. Notice $\\bar{X}$ and $n$ will be different for each practice, while $\\mu$ and $\\sigma$ are determined across all prescriptions, and so are the same for every z-score. The z-score is a useful statistical tool used for hypothesis testing, finding outliers, and comparing data about different types of objects or events.\n",
    "\n",
    "Now that we've calculated this statistic, take the 100 practices with the largest z-score. Return your result as a list of tuples in the form `(practice_name, z-score, number_of_scripts)`. Sort your tuples by z-score in descending order. Note that some practice codes will correspond with multiple names. In this case, use the first match when sorting names alphabetically."
   ]
  },
  {
   "cell_type": "code",
   "execution_count": null,
   "metadata": {},
   "outputs": [],
   "source": [
    "unique_practices = ...\n",
    "anomalies = [(\"NATIONAL ENHANCED SERVICE\", 11.6958178629, 7)] * 100"
   ]
  },
  {
   "cell_type": "code",
   "execution_count": null,
   "metadata": {},
   "outputs": [],
   "source": [
    "results.head()"
   ]
  },
  {
   "cell_type": "code",
   "execution_count": 7,
   "metadata": {},
   "outputs": [
    {
     "data": {
      "text/plain": [
       "('NATIONAL ENHANCED SERVICE', 11.695817862936027, 7)"
      ]
     },
     "execution_count": 7,
     "metadata": {},
     "output_type": "execute_result"
    }
   ],
   "source": [
    "mask = chem[\"NAME\"].str.contains(\"|\".join(opioids), case=False)\n",
    "opioid_codes = chem[mask]['CHEM SUB']\n",
    "\n",
    "scripts_merged = scripts.merge(chem, left_on=\"bnf_code\", right_on = 'CHEM SUB',  how = 'left')\n",
    "#scripts_merged.head()\n",
    "\n",
    "\n",
    "scripts['opioids'] = scripts['bnf_code'].isin(opioid_codes).astype(int)\n",
    "#scripts.head()\n",
    "\n",
    "scripts_merged['opioids'] = (scripts_merged.NAME.str.lower().isin(opioids).astype(int))\n",
    "#scripts_merged.head()\n",
    "\n",
    "\n",
    "opioids_per_practice = scripts.groupby('practice')['opioids'].mean()\n",
    "#opioids_per_practice.head()\n",
    "\n",
    "relative_opioids_per_practice = opioids_per_practice - scripts['opioids'].mean() \n",
    "#relative_opioids_per_practice.head()\n",
    "\n",
    "n_sqrt = np.sqrt(scripts.groupby('practice')['bnf_code'].count())\n",
    "#n_sqrt.head()\n",
    "\n",
    "standard_error_per_practice = np.sqrt(scripts['opioids'].var() / scripts['practice'].value_counts()) \n",
    "opioid_scores = relative_opioids_per_practice/standard_error_per_practice\n",
    "\n",
    "unique_practices = (practices.sort_values(['code', 'name']).drop_duplicates(subset=['code'], keep='first'))\n",
    "\n",
    "unique_practices = unique_practices[['code', 'name']] \n",
    "#unique_practices.head()\n",
    "\n",
    "results = unique_practices.merge(opioid_scores.rename('score'), left_on='code', right_index=True)\n",
    "\n",
    "results = results.merge(scripts['practice'].value_counts().rename('count'), left_on=\"code\", right_index=True)\n",
    "\n",
    "results.sort_values(by='score', ascending=False, inplace=True)\n",
    "\n",
    "results.drop('code', axis=1, inplace=True)\n",
    "\n",
    "results.head()\n",
    "\n",
    "anomalies = list(results.itertuples(index=False, name=None))[:100]\n",
    "\n",
    "anomalies[0]"
   ]
  },
  {
   "cell_type": "code",
   "execution_count": 8,
   "metadata": {},
   "outputs": [
    {
     "name": "stdout",
     "output_type": "stream",
     "text": [
      "==================\n",
      "Your score:  1.0\n",
      "==================\n"
     ]
    }
   ],
   "source": [
    "grader.score.dw__script_anomalies(anomalies)"
   ]
  },
  {
   "cell_type": "markdown",
   "metadata": {},
   "source": [
    "## Question 5: script_growth\n",
    "\n",
    "Another way to identify anomalies is by comparing current data to historical data. In the case of identifying sites of drug abuse, we might compare a practice's current rate of opioid prescription to their rate 5 or 10 years ago. Unless the nature of the practice has changed, the profile of drugs they prescribe should be relatively stable. We might also want to identify trends through time for business reasons, identifying drugs that are gaining market share. That's what we'll do in this question.\n",
    "\n",
    "We'll load in beneficiary data from 6 months earlier, June 2016, and calculate the percent growth in prescription rate from June 2016 to January 2017 for each `bnf_name`. We'll return the 50 items with largest growth and the 50 items with the largest shrinkage (i.e. negative percent growth) as a list of tuples sorted by growth rate in descending order in the format `(script_name, growth_rate, raw_2016_count)`. You'll notice that many of the 50 fastest growing items have low counts of prescriptions in 2016. Filter out any items that were prescribed less than 50 times."
   ]
  },
  {
   "cell_type": "code",
   "execution_count": null,
   "metadata": {},
   "outputs": [],
   "source": [
    "scripts16 = ..."
   ]
  },
  {
   "cell_type": "code",
   "execution_count": null,
   "metadata": {},
   "outputs": [],
   "source": []
  },
  {
   "cell_type": "code",
   "execution_count": null,
   "metadata": {},
   "outputs": [],
   "source": [
    "script_growth = [(\"Butec_Transdermal Patch 5mcg\\/hr\", 3.4677419355, 62.0)] * 100"
   ]
  },
  {
   "cell_type": "code",
   "execution_count": 9,
   "metadata": {},
   "outputs": [
    {
     "data": {
      "text/html": [
       "<div>\n",
       "<style scoped>\n",
       "    .dataframe tbody tr th:only-of-type {\n",
       "        vertical-align: middle;\n",
       "    }\n",
       "\n",
       "    .dataframe tbody tr th {\n",
       "        vertical-align: top;\n",
       "    }\n",
       "\n",
       "    .dataframe thead th {\n",
       "        text-align: right;\n",
       "    }\n",
       "</style>\n",
       "<table border=\"1\" class=\"dataframe\">\n",
       "  <thead>\n",
       "    <tr style=\"text-align: right;\">\n",
       "      <th></th>\n",
       "      <th>practice</th>\n",
       "      <th>bnf_code</th>\n",
       "      <th>bnf_name</th>\n",
       "      <th>items</th>\n",
       "      <th>nic</th>\n",
       "      <th>act_cost</th>\n",
       "      <th>quantity</th>\n",
       "    </tr>\n",
       "  </thead>\n",
       "  <tbody>\n",
       "    <tr>\n",
       "      <th>0</th>\n",
       "      <td>N85638</td>\n",
       "      <td>0301011R0</td>\n",
       "      <td>Salamol_Inha 100mcg (200 D) CFF (Teva)</td>\n",
       "      <td>2</td>\n",
       "      <td>2.92</td>\n",
       "      <td>2.73</td>\n",
       "      <td>2</td>\n",
       "    </tr>\n",
       "    <tr>\n",
       "      <th>1</th>\n",
       "      <td>N85638</td>\n",
       "      <td>0301011R0</td>\n",
       "      <td>Easyhaler_Salbutamol Sulf 200mcg (200D)</td>\n",
       "      <td>1</td>\n",
       "      <td>6.63</td>\n",
       "      <td>6.15</td>\n",
       "      <td>1</td>\n",
       "    </tr>\n",
       "    <tr>\n",
       "      <th>2</th>\n",
       "      <td>N85638</td>\n",
       "      <td>0301020I0</td>\n",
       "      <td>Ipratrop Brom_Inh Soln 500mcg/2ml Ud</td>\n",
       "      <td>1</td>\n",
       "      <td>1.77</td>\n",
       "      <td>1.75</td>\n",
       "      <td>12</td>\n",
       "    </tr>\n",
       "    <tr>\n",
       "      <th>3</th>\n",
       "      <td>N85638</td>\n",
       "      <td>0301020I0</td>\n",
       "      <td>Ipratrop Brom_Inh Soln 250mcg/1ml Ud</td>\n",
       "      <td>1</td>\n",
       "      <td>4.47</td>\n",
       "      <td>4.15</td>\n",
       "      <td>20</td>\n",
       "    </tr>\n",
       "    <tr>\n",
       "      <th>4</th>\n",
       "      <td>N85638</td>\n",
       "      <td>0302000C0</td>\n",
       "      <td>Clenil Modulite_Inha 50mcg (200D)</td>\n",
       "      <td>1</td>\n",
       "      <td>3.70</td>\n",
       "      <td>3.44</td>\n",
       "      <td>1</td>\n",
       "    </tr>\n",
       "  </tbody>\n",
       "</table>\n",
       "</div>"
      ],
      "text/plain": [
       "  practice   bnf_code                                 bnf_name  items   nic  \\\n",
       "0   N85638  0301011R0   Salamol_Inha 100mcg (200 D) CFF (Teva)      2  2.92   \n",
       "1   N85638  0301011R0  Easyhaler_Salbutamol Sulf 200mcg (200D)      1  6.63   \n",
       "2   N85638  0301020I0     Ipratrop Brom_Inh Soln 500mcg/2ml Ud      1  1.77   \n",
       "3   N85638  0301020I0     Ipratrop Brom_Inh Soln 250mcg/1ml Ud      1  4.47   \n",
       "4   N85638  0302000C0        Clenil Modulite_Inha 50mcg (200D)      1  3.70   \n",
       "\n",
       "   act_cost  quantity  \n",
       "0      2.73         2  \n",
       "1      6.15         1  \n",
       "2      1.75        12  \n",
       "3      4.15        20  \n",
       "4      3.44         1  "
      ]
     },
     "execution_count": 9,
     "metadata": {},
     "output_type": "execute_result"
    }
   ],
   "source": [
    "with gzip.open(\"./dw-data/201606scripts_sample.csv.gz\",\"r\") as f:\n",
    "    scripts16 = pd.read_csv(f)\n",
    "scripts16.head()"
   ]
  },
  {
   "cell_type": "code",
   "execution_count": 10,
   "metadata": {},
   "outputs": [],
   "source": [
    "growth = (scripts.bnf_name.value_counts()-scripts16.bnf_name.value_counts())/scripts16.bnf_name.value_counts()\n",
    "\n",
    "resp = pd.DataFrame(dict(growth = growth, item16 = scripts16.bnf_name.value_counts())).reset_index()\n",
    "\n",
    "resp.fillna(0, inplace= True)\n",
    "\n",
    "resp = resp[resp['item16'] >= 50 ]\n",
    "\n",
    "resp.sort_values(by = 'growth', ascending = False , inplace = True)\n",
    "\n",
    "script_growth = list(pd.concat([resp.head(50),resp.tail(50)]).itertuples(index = False, name = None))"
   ]
  },
  {
   "cell_type": "code",
   "execution_count": 11,
   "metadata": {},
   "outputs": [
    {
     "name": "stdout",
     "output_type": "stream",
     "text": [
      "==================\n",
      "Your score:  1.0\n",
      "==================\n"
     ]
    }
   ],
   "source": [
    "grader.score.dw__script_growth(script_growth)"
   ]
  },
  {
   "cell_type": "markdown",
   "metadata": {},
   "source": [
    "## Question 6: rare_scripts\n",
    "\n",
    "Does a practice's prescription costs originate from routine care or from reliance on rarely prescribed treatments? Commonplace treatments can carry lower costs than rare treatments because of efficiencies in large-scale production. While some specialist practices can't help but avoid prescribing rare medicines because there are no alternatives, some practices may be prescribing a unnecessary amount of brand-name products when generics are available. Let's identify practices whose costs disproportionately originate from rarely prescribed items.\n",
    "\n",
    "First we have to identify which `'bnf_code'` are rare. To do this, find the probability $p$ of a prescription having a particular `'bnf_code'` if the `'bnf_code'` was randomly chosen from the unique options in the beneficiary data. We will call a `'bnf_code'` rare if it is prescribed at a rate less than $0.1p$."
   ]
  },
  {
   "cell_type": "code",
   "execution_count": null,
   "metadata": {},
   "outputs": [],
   "source": [
    "p = ...\n",
    "rates = ...\n",
    "rare_codes = ...\n",
    "scripts['rare'] = ..."
   ]
  },
  {
   "cell_type": "markdown",
   "metadata": {},
   "source": [
    "Now for each practice, calculate the proportion of costs that originate from prescription of rare treatments (i.e. rare `'bnf_code'`). Use the `'act_cost'` field for this calculation."
   ]
  },
  {
   "cell_type": "code",
   "execution_count": null,
   "metadata": {},
   "outputs": [],
   "source": [
    "rare_cost_prop = ..."
   ]
  },
  {
   "cell_type": "markdown",
   "metadata": {},
   "source": [
    "Now we will calculate a z-score for each practice based on this proportion.\n",
    "First take the difference of `rare_cost_prop` and the proportion of costs originating from rare treatments across all practices."
   ]
  },
  {
   "cell_type": "code",
   "execution_count": null,
   "metadata": {},
   "outputs": [],
   "source": [
    "relative_rare_cost_prop = ..."
   ]
  },
  {
   "cell_type": "markdown",
   "metadata": {},
   "source": [
    "Now we will estimate the standard errors (i.e. the denominator of the z-score) by simply taking the standard deviation of this difference."
   ]
  },
  {
   "cell_type": "code",
   "execution_count": null,
   "metadata": {},
   "outputs": [],
   "source": [
    "standard_errors = ..."
   ]
  },
  {
   "cell_type": "markdown",
   "metadata": {},
   "source": [
    "Finally compute the z-scores. Return the practices with the top 100 z-scores in the form `(post_code, practice_name, z-score)`. Note that some practice codes will correspond with multiple names. In this case, use the first match when sorting names alphabetically."
   ]
  },
  {
   "cell_type": "code",
   "execution_count": null,
   "metadata": {},
   "outputs": [],
   "source": [
    "rare_scores = ..."
   ]
  },
  {
   "cell_type": "code",
   "execution_count": null,
   "metadata": {},
   "outputs": [],
   "source": [
    "rare_scripts = [(\"Y03472\", \"CONSULTANT DIABETES TEAM\", 16.2626871247)] * 100"
   ]
  },
  {
   "cell_type": "code",
   "execution_count": 7,
   "metadata": {},
   "outputs": [],
   "source": [
    "p = 1 / scripts['bnf_code'].nunique()\n",
    "rates = scripts['bnf_code'].value_counts() / scripts.shape[0]\n",
    "rare_codes = rates < 0.1*p\n",
    "scripts = (scripts\n",
    "      .set_index('bnf_code')\n",
    "        .assign(rare = rare_codes)\n",
    "       .reset_index()\n",
    "      )\n",
    "# Caculate proportion cost\n",
    "rare_cost_prop = rare_cost_total = (scripts\n",
    "                                    .query('rare == True')\n",
    "                                    .groupby('practice')['act_cost']\n",
    "                                     .sum()\n",
    "                                    ) / scripts.groupby('practice')['act_cost'].sum()\n",
    "\n",
    "relative_rare_cost_prop = rare_cost_prop - scripts.query('rare == True')['act_cost'].sum()/scripts['act_cost'].sum()\n",
    "# Caculate Z-score\n",
    "standard_errors = relative_rare_cost_prop.std()\n",
    "\n",
    "rare_scores = (relative_rare_cost_prop / standard_errors).rename('rare_score')\n",
    "practice_names = practices.groupby('code')['name'].unique().apply(min)\n",
    "result = (pd.concat([practice_names, rare_scores], axis=1, sort=False)\n",
    "            .nlargest(100, 'rare_score')\n",
    "            .reset_index())\n",
    "rare_scripts = [tuple(x) for x in result.to_records(index=False)]"
   ]
  },
  {
   "cell_type": "code",
   "execution_count": 8,
   "metadata": {},
   "outputs": [
    {
     "name": "stdout",
     "output_type": "stream",
     "text": [
      "==================\n",
      "Your score:  1.0\n",
      "==================\n"
     ]
    }
   ],
   "source": [
    "grader.score.dw__rare_scripts(rare_scripts)"
   ]
  },
  {
   "cell_type": "markdown",
   "metadata": {},
   "source": [
    "*Copyright &copy; 2020 The Data Incubator.  All rights reserved.*"
   ]
  }
 ],
 "metadata": {
  "kernelspec": {
   "display_name": "Python 3 (ipykernel)",
   "language": "python",
   "name": "python3"
  },
  "language_info": {
   "codemirror_mode": {
    "name": "ipython",
    "version": 3
   },
   "file_extension": ".py",
   "mimetype": "text/x-python",
   "name": "python",
   "nbconvert_exporter": "python",
   "pygments_lexer": "ipython3",
   "version": "3.8.8"
  },
  "nbclean": true
 },
 "nbformat": 4,
 "nbformat_minor": 1
}
